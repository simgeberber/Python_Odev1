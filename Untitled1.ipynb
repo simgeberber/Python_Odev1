{
 "cells": [
  {
   "cell_type": "code",
   "execution_count": 2,
   "id": "01843235-05a5-4843-8057-a3656bb271a6",
   "metadata": {},
   "outputs": [
    {
     "name": "stdin",
     "output_type": "stream",
     "text": [
      "Adınızı giriniz:  Simge\n",
      "Yaşınızı giriniz:  23\n",
      "Boyunuzu giriniz : 1.70\n"
     ]
    },
    {
     "name": "stdout",
     "output_type": "stream",
     "text": [
      "Adınız: Simge, Yaşınız: 23, Boyunuz: 1.7\n"
     ]
    }
   ],
   "source": [
    "# 1.1\n",
    "#######\n",
    "\n",
    "ad = input(\"Adınızı giriniz: \")\n",
    "yas = int(input(\"Yaşınızı giriniz: \"))\n",
    "boy = float(input(\"Boyunuzu giriniz :\"))\n",
    "\n",
    "print(f\"Adınız: {ad}, Yaşınız: {yas}, Boyunuz: {boy}\")\n"
   ]
  },
  {
   "cell_type": "code",
   "execution_count": 4,
   "id": "14b13817-1b78-42ae-92ac-ad32c2f91398",
   "metadata": {},
   "outputs": [
    {
     "name": "stdin",
     "output_type": "stream",
     "text": [
      "Matematik notunuzu giriniz:  85\n",
      "Fizik notunuzu giriniz:  65\n",
      "Kimya notunuzu giriniz:  90\n"
     ]
    },
    {
     "name": "stdout",
     "output_type": "stream",
     "text": [
      "Ortalamanız: 80.0\n"
     ]
    }
   ],
   "source": [
    "# 1.2\n",
    "#######\n",
    "\n",
    "mat = int(input(\"Matematik notunuzu giriniz: \"))\n",
    "fizik = int(input(\"Fizik notunuzu giriniz: \"))\n",
    "kimya = int(input(\"Kimya notunuzu giriniz: \"))\n",
    "ortalama = (mat + fizik + kimya) / 3\n",
    "print(f\"Ortalamanız: {float(ortalama)}\")\n",
    "\n"
   ]
  },
  {
   "cell_type": "code",
   "execution_count": 6,
   "id": "35a3d71c-0451-4acd-a7ab-f14de337ad30",
   "metadata": {},
   "outputs": [
    {
     "name": "stdout",
     "output_type": "stream",
     "text": [
      "İlk karakter: D\n",
      "Son karakter: e\n",
      "Uzunluk: 11\n",
      "Ters: ecneicSataD\n"
     ]
    }
   ],
   "source": [
    "# 1.3\n",
    "#######\n",
    "\n",
    "kelime = \"DataScience\"\n",
    "print(\"İlk karakter:\", kelime[0])\n",
    "print(\"Son karakter:\", kelime[-1])\n",
    "print(\"Uzunluk:\", len(kelime))\n",
    "print(\"Ters:\", kelime[::-1])\n"
   ]
  },
  {
   "cell_type": "code",
   "execution_count": 8,
   "id": "de2bb07b-7e08-43af-8ff4-18c5f5041600",
   "metadata": {},
   "outputs": [
    {
     "name": "stdin",
     "output_type": "stream",
     "text": [
      "Birinci sayıyı giriniz:  24\n",
      "İkinci sayıyı giriniz:  2\n"
     ]
    },
    {
     "name": "stdout",
     "output_type": "stream",
     "text": [
      "Toplam: 26\n",
      "Çıkarma: 22\n",
      "Çarpma: 48\n",
      "Bölme: 12.0\n",
      "Mod: 0\n",
      "('kök alma', 576)\n"
     ]
    }
   ],
   "source": [
    "# 2.4\n",
    "#######\n",
    "sayi1 = int(input(\"Birinci sayıyı giriniz: \"))\n",
    "sayi2 = int(input(\"İkinci sayıyı giriniz: \"))\n",
    "print(\"Toplam:\", sayi1 + sayi2)\n",
    "print(\"Çıkarma:\", sayi1 - sayi2)\n",
    "print(\"Çarpma:\", sayi1 * sayi2)\n",
    "print(\"Bölme:\", sayi1 / sayi2)\n",
    "print(\"Mod:\", sayi1 % sayi2)\n",
    "print((\"kök alma\", sayi1 ** sayi2))\n"
   ]
  },
  {
   "cell_type": "code",
   "execution_count": 10,
   "id": "ce3233ca-1f84-426a-ad2c-f1f5e578b2ad",
   "metadata": {},
   "outputs": [
    {
     "name": "stdin",
     "output_type": "stream",
     "text": [
      "Ortalamanızı giriniz:  62\n"
     ]
    },
    {
     "name": "stdout",
     "output_type": "stream",
     "text": [
      "Geçti\n"
     ]
    }
   ],
   "source": [
    "# 2.5\n",
    "#######\n",
    "\n",
    "ortalama = float(input(\"Ortalamanızı giriniz: \"))\n",
    "if ortalama > 50:\n",
    "    print(\"Geçti\")\n",
    "else:\n",
    "    print(\"Kaldı\")\n",
    "\n"
   ]
  },
  {
   "cell_type": "code",
   "execution_count": 12,
   "id": "e5183d4a-28a6-44f1-9d55-1944b2fa9843",
   "metadata": {},
   "outputs": [
    {
     "name": "stdin",
     "output_type": "stream",
     "text": [
      "Yaşınızı giriniz:  23\n"
     ]
    },
    {
     "name": "stdout",
     "output_type": "stream",
     "text": [
      "Ehliyet alabilirsiniz\n"
     ]
    }
   ],
   "source": [
    "# 2.6\n",
    "#######\n",
    "yas = int(input(\"Yaşınızı giriniz: \"))\n",
    "if yas >= 18:\n",
    "    print(\"Ehliyet alabilirsiniz\")\n",
    "else:\n",
    "    print(\"Ehliyet alamazsınız\")\n"
   ]
  },
  {
   "cell_type": "code",
   "execution_count": 14,
   "id": "d7bf67f5-8c04-4bbd-894f-3c9a8be37aa0",
   "metadata": {},
   "outputs": [
    {
     "name": "stdin",
     "output_type": "stream",
     "text": [
      "Ürün fiyatı:  540\n",
      "İndirim oranı (%):  10\n"
     ]
    },
    {
     "name": "stdout",
     "output_type": "stream",
     "text": [
      "İndirimli fiyat: 486.0\n"
     ]
    }
   ],
   "source": [
    "# 2.7\n",
    "#######\n",
    "\n",
    "fiyat = float(input(\"Ürün fiyatı: \"))\n",
    "indirim = float(input(\"İndirim oranı (%): \"))\n",
    "indirimli_fiyat = fiyat - (fiyat * indirim / 100)\n",
    "print(\"İndirimli fiyat:\", indirimli_fiyat)\n",
    "\n",
    "\n"
   ]
  },
  {
   "cell_type": "code",
   "execution_count": 16,
   "id": "e43922b4-5353-44fc-8deb-1584e669d412",
   "metadata": {},
   "outputs": [
    {
     "name": "stdout",
     "output_type": "stream",
     "text": [
      "a and b: False\n",
      "a or b: True\n",
      "not a: False\n"
     ]
    }
   ],
   "source": [
    "# 2.8\n",
    "#######\n",
    "a = True\n",
    "b = False\n",
    "print(\"a and b:\", a and b)\n",
    "print(\"a or b:\", a or b)\n",
    "print(\"not a:\", not a)\n"
   ]
  },
  {
   "cell_type": "code",
   "execution_count": 18,
   "id": "bfbd7904-5d7d-420d-b8b9-b80123da8151",
   "metadata": {},
   "outputs": [
    {
     "name": "stdin",
     "output_type": "stream",
     "text": [
      "1. ürün fiyatı:  175\n",
      "2. ürün fiyatı:  230\n",
      "3. ürün fiyatı:  310\n"
     ]
    },
    {
     "name": "stdout",
     "output_type": "stream",
     "text": [
      "Toplam fiyat: 715.0\n",
      "Toplam 200 TL’den büyük olduğu için %10 indirim uygulandı.\n",
      "İndirimli fiyat: 643.5\n"
     ]
    }
   ],
   "source": [
    "# 3.9\n",
    "#######\n",
    "urun1 = float(input(\"1. ürün fiyatı: \"))\n",
    "urun2 = float(input(\"2. ürün fiyatı: \"))\n",
    "urun3 = float(input(\"3. ürün fiyatı: \"))\n",
    "\n",
    "toplam = urun1 + urun2 + urun3\n",
    "print(\"Toplam fiyat:\", toplam)\n",
    "\n",
    "if toplam > 200:\n",
    "    indirimli_fiyat = toplam - (toplam * 0.10)\n",
    "    print(\"Toplam 200 TL’den büyük olduğu için %10 indirim uygulandı.\")\n",
    "else:\n",
    "    indirimli_fiyat = toplam\n",
    "    print(\"Toplam 200 TL’den küçük olduğu için indirim yok.\")\n",
    "\n",
    "print(\"İndirimli fiyat:\", indirimli_fiyat)\n",
    "\n"
   ]
  },
  {
   "cell_type": "code",
   "execution_count": 20,
   "id": "faff30c3-c95e-4cb1-a191-effd4e4e10bb",
   "metadata": {},
   "outputs": [
    {
     "name": "stdin",
     "output_type": "stream",
     "text": [
      "Doğum yılınızı giriniz:  2002\n"
     ]
    },
    {
     "name": "stdout",
     "output_type": "stream",
     "text": [
      "Yaşınız: 23\n",
      "Yetişkinsiniz.\n"
     ]
    }
   ],
   "source": [
    "# 3.10\n",
    "#######\n",
    "guncel_yil = 2025\n",
    "dogum_yili = int(input(\"Doğum yılınızı giriniz: \"))\n",
    "\n",
    "yas = guncel_yil - dogum_yili\n",
    "print(\"Yaşınız:\", yas)\n",
    "\n",
    "if 0 <= yas <= 12:\n",
    "    print(\"Çocuksunuz.\")\n",
    "elif 13 <= yas <= 17:\n",
    "    print(\"Ergensiniz.\")\n",
    "elif yas >= 18:\n",
    "    print(\"Yetişkinsiniz.\")\n",
    "else:\n",
    "    print(\"Geçersiz yaş girdiniz.\")"
   ]
  }
 ],
 "metadata": {
  "kernelspec": {
   "display_name": "Python 3 (ipykernel)",
   "language": "python",
   "name": "python3"
  },
  "language_info": {
   "codemirror_mode": {
    "name": "ipython",
    "version": 3
   },
   "file_extension": ".py",
   "mimetype": "text/x-python",
   "name": "python",
   "nbconvert_exporter": "python",
   "pygments_lexer": "ipython3",
   "version": "3.12.7"
  }
 },
 "nbformat": 4,
 "nbformat_minor": 5
}
